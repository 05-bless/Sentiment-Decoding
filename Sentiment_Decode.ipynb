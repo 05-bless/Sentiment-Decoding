{
  "nbformat": 4,
  "nbformat_minor": 0,
  "metadata": {
    "colab": {
      "provenance": []
    },
    "kernelspec": {
      "name": "python3",
      "display_name": "Python 3"
    },
    "language_info": {
      "name": "python"
    }
  },
  "cells": [
    {
      "cell_type": "code",
      "execution_count": 2,
      "metadata": {
        "colab": {
          "base_uri": "https://localhost:8080/",
          "height": 408
        },
        "id": "thya3lSoDm9u",
        "outputId": "34e73190-3c52-4d98-bd45-1d1a4cfaadf1"
      },
      "outputs": [
        {
          "name": "stdout",
          "output_type": "stream",
          "text": [
            "🎭 Emotion Decoder: Social Media Sentiment Analysis 🎭\n",
            "Enter social media text (press Enter twice to finish):\n",
            "fyi\n",
            "fyi\n"
          ]
        },
        {
          "output_type": "error",
          "ename": "KeyboardInterrupt",
          "evalue": "Interrupted by user",
          "traceback": [
            "\u001b[0;31m---------------------------------------------------------------------------\u001b[0m",
            "\u001b[0;31mKeyboardInterrupt\u001b[0m                         Traceback (most recent call last)",
            "\u001b[0;32m<ipython-input-2-7fe6cf6a77da>\u001b[0m in \u001b[0;36m<cell line: 0>\u001b[0;34m()\u001b[0m\n\u001b[1;32m    126\u001b[0m \u001b[0;34m\u001b[0m\u001b[0m\n\u001b[1;32m    127\u001b[0m \u001b[0;32mif\u001b[0m \u001b[0m__name__\u001b[0m \u001b[0;34m==\u001b[0m \u001b[0;34m\"__main__\"\u001b[0m\u001b[0;34m:\u001b[0m\u001b[0;34m\u001b[0m\u001b[0;34m\u001b[0m\u001b[0m\n\u001b[0;32m--> 128\u001b[0;31m     \u001b[0mmain\u001b[0m\u001b[0;34m(\u001b[0m\u001b[0;34m)\u001b[0m\u001b[0;34m\u001b[0m\u001b[0;34m\u001b[0m\u001b[0m\n\u001b[0m\u001b[1;32m    129\u001b[0m \u001b[0;34m\u001b[0m\u001b[0m\n",
            "\u001b[0;32m<ipython-input-2-7fe6cf6a77da>\u001b[0m in \u001b[0;36mmain\u001b[0;34m()\u001b[0m\n\u001b[1;32m    106\u001b[0m     \u001b[0mlines\u001b[0m \u001b[0;34m=\u001b[0m \u001b[0;34m[\u001b[0m\u001b[0;34m]\u001b[0m\u001b[0;34m\u001b[0m\u001b[0;34m\u001b[0m\u001b[0m\n\u001b[1;32m    107\u001b[0m     \u001b[0;32mwhile\u001b[0m \u001b[0;32mTrue\u001b[0m\u001b[0;34m:\u001b[0m\u001b[0;34m\u001b[0m\u001b[0;34m\u001b[0m\u001b[0m\n\u001b[0;32m--> 108\u001b[0;31m         \u001b[0mline\u001b[0m \u001b[0;34m=\u001b[0m \u001b[0minput\u001b[0m\u001b[0;34m(\u001b[0m\u001b[0;34m)\u001b[0m\u001b[0;34m\u001b[0m\u001b[0;34m\u001b[0m\u001b[0m\n\u001b[0m\u001b[1;32m    109\u001b[0m         \u001b[0;32mif\u001b[0m \u001b[0mline\u001b[0m\u001b[0;34m:\u001b[0m\u001b[0;34m\u001b[0m\u001b[0;34m\u001b[0m\u001b[0m\n\u001b[1;32m    110\u001b[0m             \u001b[0mlines\u001b[0m\u001b[0;34m.\u001b[0m\u001b[0mappend\u001b[0m\u001b[0;34m(\u001b[0m\u001b[0mline\u001b[0m\u001b[0;34m)\u001b[0m\u001b[0;34m\u001b[0m\u001b[0;34m\u001b[0m\u001b[0m\n",
            "\u001b[0;32m/usr/local/lib/python3.11/dist-packages/ipykernel/kernelbase.py\u001b[0m in \u001b[0;36mraw_input\u001b[0;34m(self, prompt)\u001b[0m\n\u001b[1;32m   1175\u001b[0m                 \u001b[0;34m\"raw_input was called, but this frontend does not support input requests.\"\u001b[0m\u001b[0;34m\u001b[0m\u001b[0;34m\u001b[0m\u001b[0m\n\u001b[1;32m   1176\u001b[0m             )\n\u001b[0;32m-> 1177\u001b[0;31m         return self._input_request(\n\u001b[0m\u001b[1;32m   1178\u001b[0m             \u001b[0mstr\u001b[0m\u001b[0;34m(\u001b[0m\u001b[0mprompt\u001b[0m\u001b[0;34m)\u001b[0m\u001b[0;34m,\u001b[0m\u001b[0;34m\u001b[0m\u001b[0;34m\u001b[0m\u001b[0m\n\u001b[1;32m   1179\u001b[0m             \u001b[0mself\u001b[0m\u001b[0;34m.\u001b[0m\u001b[0m_parent_ident\u001b[0m\u001b[0;34m[\u001b[0m\u001b[0;34m\"shell\"\u001b[0m\u001b[0;34m]\u001b[0m\u001b[0;34m,\u001b[0m\u001b[0;34m\u001b[0m\u001b[0;34m\u001b[0m\u001b[0m\n",
            "\u001b[0;32m/usr/local/lib/python3.11/dist-packages/ipykernel/kernelbase.py\u001b[0m in \u001b[0;36m_input_request\u001b[0;34m(self, prompt, ident, parent, password)\u001b[0m\n\u001b[1;32m   1217\u001b[0m             \u001b[0;32mexcept\u001b[0m \u001b[0mKeyboardInterrupt\u001b[0m\u001b[0;34m:\u001b[0m\u001b[0;34m\u001b[0m\u001b[0;34m\u001b[0m\u001b[0m\n\u001b[1;32m   1218\u001b[0m                 \u001b[0;31m# re-raise KeyboardInterrupt, to truncate traceback\u001b[0m\u001b[0;34m\u001b[0m\u001b[0;34m\u001b[0m\u001b[0m\n\u001b[0;32m-> 1219\u001b[0;31m                 \u001b[0;32mraise\u001b[0m \u001b[0mKeyboardInterrupt\u001b[0m\u001b[0;34m(\u001b[0m\u001b[0;34m\"Interrupted by user\"\u001b[0m\u001b[0;34m)\u001b[0m \u001b[0;32mfrom\u001b[0m \u001b[0;32mNone\u001b[0m\u001b[0;34m\u001b[0m\u001b[0;34m\u001b[0m\u001b[0m\n\u001b[0m\u001b[1;32m   1220\u001b[0m             \u001b[0;32mexcept\u001b[0m \u001b[0mException\u001b[0m\u001b[0;34m:\u001b[0m\u001b[0;34m\u001b[0m\u001b[0;34m\u001b[0m\u001b[0m\n\u001b[1;32m   1221\u001b[0m                 \u001b[0mself\u001b[0m\u001b[0;34m.\u001b[0m\u001b[0mlog\u001b[0m\u001b[0;34m.\u001b[0m\u001b[0mwarning\u001b[0m\u001b[0;34m(\u001b[0m\u001b[0;34m\"Invalid Message:\"\u001b[0m\u001b[0;34m,\u001b[0m \u001b[0mexc_info\u001b[0m\u001b[0;34m=\u001b[0m\u001b[0;32mTrue\u001b[0m\u001b[0;34m)\u001b[0m\u001b[0;34m\u001b[0m\u001b[0;34m\u001b[0m\u001b[0m\n",
            "\u001b[0;31mKeyboardInterrupt\u001b[0m: Interrupted by user"
          ]
        }
      ],
      "source": [
        "import re\n",
        "from collections import defaultdict\n",
        "import matplotlib.pyplot as plt\n",
        "from wordcloud import WordCloud\n",
        "EMOTION_LEXICON = {\n",
        "    'happy': ['happy', 'joy', 'excited', 'yay', 'woohoo', '😊', '😂', '🥳', 'awesome', 'amazing'],\n",
        "    'sad': ['sad', 'cry', 'depressed', '😢', '😭', 'heartbroken', 'mourn', 'grief'],\n",
        "    'angry': ['angry', 'mad', 'furious', 'rage', '😠', '🤬', 'pissed', 'annoyed'],\n",
        "    'fearful': ['scared', 'fear', 'terrified', 'anxious', '😨', 'nervous', 'worried'],\n",
        "    'surprised': ['surprised', 'shocked', 'wow', 'omg', '😲', 'mindblown', 'astonished'],\n",
        "    'love': ['love', 'heart', 'adorable', '😍', '❤️', 'crush', 'romantic', 'sweet'],\n",
        "    'disgust': ['disgust', 'ew', 'gross', '🤢', '🤮', 'revolting', 'nasty']\n",
        "}\n",
        "\n",
        "SLANG_DICT = {\n",
        "    'lol': 'laughing out loud',\n",
        "    'rofl': 'rolling on floor laughing',\n",
        "    'smh': 'shaking my head',\n",
        "    'tbh': 'to be honest',\n",
        "    'idk': \"i don't know\",\n",
        "    'btw': 'by the way',\n",
        "    'imo': 'in my opinion',\n",
        "    'fyi': 'for your information',\n",
        "    'omg': 'oh my god',\n",
        "    'wtf': 'what the hell',\n",
        "    'nbd': 'no big deal',\n",
        "    'yolo': 'you only live once'\n",
        "}\n",
        "\n",
        "def preprocess_text(text):\n",
        "    \"\"\"Creative text preprocessing with slang conversion and emoji handling\"\"\"\n",
        "    text = text.lower()\n",
        "    for slang, full_form in SLANG_DICT.items():\n",
        "        text = text.replace(slang, full_form)\n",
        "    text = re.sub(r'http\\S+|www\\S+|https\\S+', '', text, flags=re.MULTILINE)\n",
        "    text = re.sub(r'\\@\\w+|\\#\\w+', '', text)\n",
        "    text = re.sub(r'[^\\w\\s\\'.,!?😀-🙏]', '', text)\n",
        "\n",
        "    return text.strip()\n",
        "\n",
        "def analyze_emotions(text):\n",
        "    \"\"\"Creative emotion analysis with score weighting\"\"\"\n",
        "    text = preprocess_text(text)\n",
        "    emotion_scores = defaultdict(int)\n",
        "    total_matches = 0\n",
        "    for emotion, keywords in EMOTION_LEXICON.items():\n",
        "        for keyword in keywords:\n",
        "            if keyword in text:\n",
        "                # Give more weight to emojis\n",
        "                weight = 2 if any(c in keyword for c in ['😊','😢','😠','😨','😲','😍','🤢']) else 1\n",
        "                emotion_scores[emotion] += weight\n",
        "                total_matches += weight\n",
        "\n",
        "    # Calculate percentages if matches found\n",
        "    if total_matches > 0:\n",
        "        for emotion in emotion_scores:\n",
        "            emotion_scores[emotion] = round((emotion_scores[emotion] / total_matches) * 100, 1)\n",
        "\n",
        "    return dict(emotion_scores)\n",
        "\n",
        "def visualize_emotions(emotion_scores, text):\n",
        "    \"\"\"Creative visualization of emotion analysis\"\"\"\n",
        "    # Bar chart\n",
        "    plt.figure(figsize=(10, 5))\n",
        "    plt.bar(emotion_scores.keys(), emotion_scores.values(), color=[\n",
        "        '#FFD700', '#87CEEB', '#FF6347', '#9370DB', '#FFA500', '#FF69B4', '#32CD32'\n",
        "    ])\n",
        "    plt.title(\"Emotion Distribution in Social Media Text\")\n",
        "    plt.ylabel(\"Emotion Score (%)\")\n",
        "    plt.xticks(rotation=45)\n",
        "    plt.tight_layout()\n",
        "    plt.show()\n",
        "\n",
        "    # Word cloud of emotions\n",
        "    wordcloud = WordCloud(\n",
        "        width=800, height=400,\n",
        "        background_color='white',\n",
        "        colormap='viridis'\n",
        "    ).generate_from_frequencies(emotion_scores)\n",
        "\n",
        "    plt.figure(figsize=(10, 5))\n",
        "    plt.imshow(wordcloud, interpolation='bilinear')\n",
        "    plt.axis('off')\n",
        "    plt.title(\"Emotion Word Cloud\")\n",
        "    plt.show()\n",
        "\n",
        "def main():\n",
        "    print(\"🎭 Emotion Decoder: Social Media Sentiment Analysis 🎭\")\n",
        "    print(\"Enter social media text (press Enter twice to finish):\")\n",
        "\n",
        "    # Get multi-line input\n",
        "    lines = []\n",
        "    while True:\n",
        "        line = input()\n",
        "        if line:\n",
        "            lines.append(line)\n",
        "        else:\n",
        "            break\n",
        "    text = ' '.join(lines)\n",
        "\n",
        "    if not text.strip():\n",
        "        print(\"No text entered. Exiting...\")\n",
        "        return\n",
        "\n",
        "    # Analyze and visualize\n",
        "    emotion_scores = analyze_emotions(text)\n",
        "    print(\"\\n🔍 Emotion Analysis Results:\")\n",
        "    for emotion, score in emotion_scores.items():\n",
        "        print(f\"{emotion.capitalize()}: {score}%\")\n",
        "\n",
        "    visualize_emotions(emotion_scores, text)\n",
        "\n",
        "if __name__ == \"__main__\":\n",
        "    main()\n"
      ]
    },
    {
      "cell_type": "code",
      "source": [
        "# Sentiment Analysis of Social Media Comments using TextBlob\n",
        "\n",
        "from textblob import TextBlob\n",
        "import matplotlib.pyplot as plt\n",
        "\n",
        "# Sample social media comments (you can replace these with actual comments from a CSV or API)\n",
        "comments = [\n",
        "    \"I love this product! It's amazing 😊\",\n",
        "    \"Worst service ever. Very disappointed 😡\",\n",
        "    \"It's okay, not too bad, not too good.\",\n",
        "    \"Wow! Totally impressed with the update. Great job!\",\n",
        "    \"I'm sad about the new changes.\",\n",
        "    \"This is the best day of my life!\",\n",
        "    \"I'm confused... not sure how I feel about this.\",\n",
        "    \"Absolutely terrible experience. Will never come back.\",\n",
        "    \"Feeling grateful and blessed 🙏\",\n",
        "    \"Meh. It’s whatever.\"\n",
        "]\n",
        "\n",
        "# Classifying sentiments\n",
        "emotions = {\"Positive\": 0, \"Neutral\": 0, \"Negative\": 0}\n",
        "\n",
        "for comment in comments:\n",
        "    blob = TextBlob(comment)\n",
        "    polarity = blob.sentiment.polarity\n",
        "\n",
        "    if polarity > 0.1:\n",
        "        emotions[\"Positive\"] += 1\n",
        "    elif polarity < -0.1:\n",
        "        emotions[\"Negative\"] += 1\n",
        "    else:\n",
        "        emotions[\"Neutral\"] += 1\n",
        "\n",
        "# 📊 Visualization\n",
        "labels = emotions.keys()\n",
        "sizes = emotions.values()\n",
        "colors = ['#66b3ff', '#ffcc99', '#ff6666']\n",
        "\n",
        "plt.figure(figsize=(7, 7))\n",
        "plt.pie(sizes, labels=labels, colors=colors, autopct='%1.1f%%', startangle=140)\n",
        "plt.title(\"Sentiment Analysis of Social Media Conversations\")\n",
        "plt.axis('equal')\n",
        "plt.show()\n"
      ],
      "metadata": {
        "colab": {
          "base_uri": "https://localhost:8080/",
          "height": 598
        },
        "id": "I3N6o3CFE6Og",
        "outputId": "366c4999-7999-4e05-f0dd-9d4d473c1255"
      },
      "execution_count": 3,
      "outputs": [
        {
          "output_type": "display_data",
          "data": {
            "text/plain": [
              "<Figure size 700x700 with 1 Axes>"
            ],
            "image/png": "[encoded data removed]"
          },
          "metadata": {}
        }
      ]
    },
    {
      "cell_type": "code",
      "source": [
        "from textblob import TextBlob\n",
        "\n",
        "# Sample social media comments\n",
        "comments = [\n",
        "    \"I love this product! It's amazing 😊\",\n",
        "    \"Worst service ever. Very disappointed 😡\",\n",
        "    \"It's okay, not too bad, not too good.\",\n",
        "    \"Wow! Totally impressed with the update. Great job!\",\n",
        "    \"I'm sad about the new changes.\",\n",
        "    \"This is the best day of my life!\",\n",
        "    \"I'm confused... not sure how I feel about this.\",\n",
        "    \"Absolutely terrible experience. Will never come back.\",\n",
        "    \"Feeling grateful and blessed 🙏\",\n",
        "    \"Meh. It’s whatever.\"\n",
        "]\n",
        "\n",
        "# Emotion categories\n",
        "emotions = {\"Positive\": 0, \"Neutral\": 0, \"Negative\": 0}\n",
        "\n",
        "# Analyze each comment\n",
        "for comment in comments:\n",
        "    blob = TextBlob(comment)\n",
        "    polarity = blob.sentiment.polarity\n",
        "\n",
        "    if polarity > 0.1:\n",
        "        emotions[\"Positive\"] += 1\n",
        "    elif polarity < -0.1:\n",
        "        emotions[\"Negative\"] += 1\n",
        "    else:\n",
        "        emotions[\"Neutral\"] += 1\n",
        "\n",
        "# Print the result\n",
        "print(\"Sentiment Analysis Result:\")\n",
        "for emotion, count in emotions.items():\n",
        "    print(f\"{emotion}: {count}\")\n"
      ],
      "metadata": {
        "colab": {
          "base_uri": "https://localhost:8080/"
        },
        "id": "iMZ5lU4wFplB",
        "outputId": "68cf3ca9-7538-4003-e585-8669a225c2f6"
      },
      "execution_count": 6,
      "outputs": [
        {
          "output_type": "stream",
          "name": "stdout",
          "text": [
            "Sentiment Analysis Result:\n",
            "Positive: 4\n",
            "Neutral: 2\n",
            "Negative: 4\n"
          ]
        }
      ]
    }
  ]
}